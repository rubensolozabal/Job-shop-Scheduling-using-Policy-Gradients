{
 "cells": [
  {
   "cell_type": "code",
   "execution_count": 1,
   "metadata": {},
   "outputs": [
    {
     "name": "stdout",
     "output_type": "stream",
     "text": [
      "importing Jupyter notebook from environment.ipynb\n",
      "importing Jupyter notebook from config.ipynb\n"
     ]
    }
   ],
   "source": [
    "from IPython.core.debugger import set_trace\n",
    "\n",
    "import numpy as np\n",
    "\n",
    "import import_ipynb\n",
    "from environment import *\n"
   ]
  },
  {
   "cell_type": "code",
   "execution_count": 2,
   "metadata": {},
   "outputs": [],
   "source": [
    "def heuristicSPT(num_jobs, num_mc, machines, durations):\n",
    "    \n",
    "    \n",
    "    machines_ = np.array(machines)\n",
    "    tmp = np.zeros((num_jobs,num_mc+1), dtype=int)\n",
    "    tmp[:,:-1] = machines_\n",
    "    machines_ = tmp\n",
    "    \n",
    "    \n",
    "    durations_ = np.array(durations)\n",
    "    tmp = np.zeros((num_jobs,num_mc+1), dtype=int)\n",
    "    tmp[:,:-1] = durations_\n",
    "    durations_ = tmp\n",
    "    \n",
    "    indices = np.zeros([num_jobs], dtype=int)\n",
    "    \n",
    "    # Internal variables\n",
    "    previousTaskReadyTime = np.zeros([num_jobs], dtype=int)\n",
    "    machineReadyTime = np.zeros([num_mc], dtype=int)\n",
    "\n",
    "    placements = [[] for _ in range(num_mc)]\n",
    "    \n",
    "\n",
    "    # While...\n",
    "    while(not np.array_equal(indices, np.ones([num_jobs], dtype=int)*num_mc)):\n",
    "        \n",
    "        machines_Idx = machines_[range(num_jobs),indices]\n",
    "        durations_Idx = durations_[range(num_jobs),indices]\n",
    "\n",
    "        \n",
    "        # 1: Check previous Task and machine availability\n",
    "        mask = np.zeros([num_jobs], dtype=bool)\n",
    "        \n",
    "        for j in range(num_jobs):\n",
    "            \n",
    "            if previousTaskReadyTime[j] == 0 and machineReadyTime[machines_Idx[j]] == 0 and indices[j]<num_mc:\n",
    "                mask[j] = True\n",
    "\n",
    "\n",
    "        \n",
    "        # 2: Competition SPT\n",
    "        \n",
    "        for m in range(num_mc):\n",
    "            \n",
    "            job = None\n",
    "            duration = 99999\n",
    "            \n",
    "            for j in range(num_jobs):\n",
    "                \n",
    "                if machines_Idx[j] == m and durations_Idx[j] < duration and mask[j]:\n",
    "                    job = j\n",
    "                    duration = durations_Idx[j]\n",
    "            \n",
    "            if job != None:\n",
    "                \n",
    "                placements[m].append([job, indices[job]])\n",
    "                \n",
    "                previousTaskReadyTime[job] += durations_Idx[job]\n",
    "                machineReadyTime[m] += durations_Idx[job]\n",
    "                \n",
    "                indices[job] += 1\n",
    "                \n",
    "        # time +1\n",
    "        \n",
    "        previousTaskReadyTime = np.maximum(previousTaskReadyTime - 1 , np.zeros([num_jobs], dtype=int)) \n",
    "        machineReadyTime = np.maximum(machineReadyTime - 1 , np.zeros([num_mc], dtype=int)) \n",
    "        \n",
    "        \n",
    "    return placements\n"
   ]
  },
  {
   "cell_type": "code",
   "execution_count": null,
   "metadata": {},
   "outputs": [],
   "source": []
  },
  {
   "cell_type": "code",
   "execution_count": 3,
   "metadata": {
    "scrolled": false
   },
   "outputs": [
    {
     "name": "stdout",
     "output_type": "stream",
     "text": [
      "Makespan:  29\n"
     ]
    },
    {
     "data": {
      "image/png": "[encoded data removed]",
      "text/plain": [
       "<Figure size 640x480 with 1 Axes>"
      ]
     },
     "metadata": {},
     "output_type": "display_data"
    }
   ],
   "source": [
    "if __name__ == \"__main__\":\n",
    "    \n",
    "    \n",
    "    # Import environment\n",
    "    config = Config()\n",
    "    config.machine_profile = \"xsmall_default\"\n",
    "    config.job_profile = \"xsmall_default\"\n",
    "    config.reconfigure()\n",
    "    \n",
    "    # Configure environment\n",
    "    env = Environment(config)\n",
    "    env.clear()\n",
    "    \n",
    "    \n",
    "    # Read problem instance\n",
    "    filename = \"datasets/inference/dataset_xsmall.data\"\n",
    "\n",
    "    with open(filename, \"r\") as file:\n",
    "        NB_JOBS, NB_MACHINES = [int(v) for v in file.readline().split()]\n",
    "        JOBS = [[int(v) for v in file.readline().split()] for i in range(NB_JOBS)]\n",
    "\n",
    "    #-----------------------------------------------------------------------------\n",
    "    # Prepare the data for modeling\n",
    "    #-----------------------------------------------------------------------------\n",
    "\n",
    "    # Build list of machines. MACHINES[j][s] = id of the machine for the operation s of the job j\n",
    "    machines = [[JOBS[j][2 * s] for s in range(NB_MACHINES)] for j in range(NB_JOBS)]\n",
    "\n",
    "\n",
    "    # Build list of durations. DURATION[j][s] = duration of the operation s of the job j\n",
    "    durations = [[JOBS[j][2 * s + 1] for s in range(NB_MACHINES)] for j in range(NB_JOBS)]\n",
    "\n",
    "\n",
    "    placements = heuristicSPT(NB_JOBS, NB_MACHINES, machines, durations)\n",
    "    \n",
    "\n",
    "    env.step(machines, durations, placements)\n",
    "    \n",
    "    print(\"Makespan: \", env.makespan)\n",
    "    \n",
    "    env.plot(save=False)\n",
    "    "
   ]
  },
  {
   "cell_type": "code",
   "execution_count": null,
   "metadata": {},
   "outputs": [],
   "source": []
  }
 ],
 "metadata": {
  "kernelspec": {
   "display_name": "Python (ICML2020)",
   "language": "python",
   "name": "icml2020"
  },
  "language_info": {
   "codemirror_mode": {
    "name": "ipython",
    "version": 3
   },
   "file_extension": ".py",
   "mimetype": "text/x-python",
   "name": "python",
   "nbconvert_exporter": "python",
   "pygments_lexer": "ipython3",
   "version": "3.6.9"
  }
 },
 "nbformat": 4,
 "nbformat_minor": 2
}
